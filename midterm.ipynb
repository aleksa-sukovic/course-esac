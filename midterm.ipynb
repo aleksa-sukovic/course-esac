{
 "cells": [
  {
   "cell_type": "markdown",
   "metadata": {},
   "source": [
    "# Embedded Systems & Control\n",
    "\n",
    "This notebook is an implementation of the midterm assignment for the *Embedded Systems & Control* course held by [Martina Maggio](https://www.martinamaggio.com/main/) ([Saarland Informatics Campus](https://saarland-informatics-campus.de), [Lund Department of Automatic Control](http://control.lth.se))."
   ]
  },
  {
   "cell_type": "markdown",
   "metadata": {},
   "source": [
    "- Given Name: **Aleksa**\n",
    "- Family Name: **Sukovic**\n",
    "- ID: **7023848**\n",
    "\n",
    "The notebook itself was extracted from my course repository, which I cannot share without exposing all of the materials and exercises, which is unfortunately not allowed. Repository associated with this notebook will become available [on my GitHub profile](https://github.com/aleksa-sukovic/esac) after the expiration of the assignment deadline."
   ]
  },
  {
   "cell_type": "code",
   "execution_count": 48,
   "metadata": {},
   "outputs": [],
   "source": [
    "import time\n",
    "import control\n",
    "import library\n",
    "import numpy as np"
   ]
  },
  {
   "cell_type": "code",
   "execution_count": 49,
   "metadata": {},
   "outputs": [],
   "source": [
    "from control.matlab import *\n",
    "from sympy.matrices import Matrix, eye\n",
    "from sympy import symbols, solve, simplify, denom, Eq, Poly"
   ]
  },
  {
   "cell_type": "code",
   "execution_count": 50,
   "metadata": {},
   "outputs": [],
   "source": [
    "%reload_ext autoreload\n",
    "%autoreload 2"
   ]
  },
  {
   "cell_type": "markdown",
   "metadata": {},
   "source": [
    "# Velocity Controller\n",
    "\n",
    "We design a Proportional and Integral (*PI*) controller for the *DC* motor velocity."
   ]
  },
  {
   "cell_type": "markdown",
   "metadata": {},
   "source": [
    "## DC Motor Model\n",
    "\n",
    "First, we define a model of the DC Motor. State matrix $A$ and input matrix $B$ are given in the problem description. The feedthrough matrix $D$ is zero. Finally, since we are designing the velocity controller, our output matrix is set to be $C = \\begin{bmatrix} 1 & 0 \\end{bmatrix}$."
   ]
  },
  {
   "cell_type": "code",
   "execution_count": 51,
   "metadata": {},
   "outputs": [],
   "source": [
    "A = np.array([[-0.12, 0.], [5., 0.]])\n",
    "B = np.array([[2.25], [0.]])\n",
    "C = np.array([[1., 0.]])\n",
    "D = np.array([0.])\n",
    "S = control.ss(A, B, C, D)"
   ]
  },
  {
   "cell_type": "markdown",
   "metadata": {},
   "source": [
    "## DC Motor Transfer Function\n",
    "\n",
    "Next, we define the transfer function of our *DC* Motor (i.e., plant), namely $D(s)$. For this, we use the `control` library, but then manually re-write it using symbolic variables given by `sympy` package. This will allow us to numerically solve for the unknowns of our controller."
   ]
  },
  {
   "cell_type": "code",
   "execution_count": 52,
   "metadata": {},
   "outputs": [
    {
     "data": {
      "text/latex": [
       "$$\\frac{2.25 s}{s^2 + 0.12 s}$$"
      ],
      "text/plain": [
       "TransferFunction(array([2.25, 0.  ]), array([1.  , 0.12, 0.  ]))"
      ]
     },
     "execution_count": 52,
     "metadata": {},
     "output_type": "execute_result"
    }
   ],
   "source": [
    "control.tf(S)"
   ]
  },
  {
   "cell_type": "code",
   "execution_count": 53,
   "metadata": {},
   "outputs": [],
   "source": [
    "s = symbols(\"s\")\n",
    "Ds = (2.25 * s) / (s**2 + 0.12 * s)"
   ]
  },
  {
   "cell_type": "markdown",
   "metadata": {},
   "source": [
    "## PI Controller\n",
    "\n",
    "Continuing, we will design our *PI* controller in continuous-time. The *PI* controller is a regular *PID* controller, but with its derivative term set to zero. Thus, it's transfer function is given by the following relation:\n",
    "\n",
    "$$\n",
    "\\frac{U(s)}{E(s)} = K_p + \\frac{1}{s} \\cdot K_i\n",
    "$$\n",
    "\n",
    "Our task is now to find the controller parameters $K_i$ and $K_p$. To do so, we need to obtain the transfer function of the complete system (i.e., including both, *DC* Motor and the Controller). This is given by the following equation:\n",
    "\n",
    "$$\n",
    "G(s) = \\frac{C(s) \\cdot D(s)}{1 + C(s) \\cdot D(s)}\n",
    "$$\n",
    "\n",
    "Where $C(s)$ is the transfer function for the controller and $D(s)$ is the transfer function for the *DC* Motor."
   ]
  },
  {
   "cell_type": "code",
   "execution_count": 54,
   "metadata": {},
   "outputs": [],
   "source": [
    "Ki, Kp = symbols(\"Ki Kp\")\n",
    "Cs = Kp + 1/s * Ki"
   ]
  },
  {
   "cell_type": "code",
   "execution_count": 55,
   "metadata": {},
   "outputs": [],
   "source": [
    "Gs = (Cs * Ds) / (1 + Cs * Ds)"
   ]
  },
  {
   "cell_type": "markdown",
   "metadata": {},
   "source": [
    "Now we want to find $K_i$ and $K_p$ such that the closed-loop system's (i.e., represented by $G(s)$) poles are set in $-3 \\pm 2i$. "
   ]
  },
  {
   "cell_type": "code",
   "execution_count": 56,
   "metadata": {},
   "outputs": [],
   "source": [
    "Poles = denom(simplify(Gs))\n",
    "PolesTarget = Poly((s - complex(-3, +2)) * (s - complex(-3, -2)))"
   ]
  },
  {
   "cell_type": "code",
   "execution_count": 57,
   "metadata": {},
   "outputs": [],
   "source": [
    "K = solve(Poles - PolesTarget, [Ki, Kp])"
   ]
  },
  {
   "cell_type": "code",
   "execution_count": 58,
   "metadata": {},
   "outputs": [
    {
     "name": "stdout",
     "output_type": "stream",
     "text": [
      "{Kp: 2.61333333333333, Ki: 5.77777777777778}\n"
     ]
    }
   ],
   "source": [
    "print(K)"
   ]
  },
  {
   "cell_type": "markdown",
   "metadata": {},
   "source": [
    "Thus, we obtain two portions of our *PI* controller. The final controller transfer function is given by the following relation:\n",
    "\n",
    "$$\n",
    "\\frac{U(s)}{E(s)} = 2.613+ \\frac{1}{s} \\cdot 5.778\n",
    "$$"
   ]
  },
  {
   "cell_type": "markdown",
   "metadata": {},
   "source": [
    "## Velocity Control Evaluation\n",
    "\n",
    "We now evaluate our *PI* controller. First, we again fall back to using entities from the `control` library. This allows us to simulate the system's response to a particular input."
   ]
  },
  {
   "cell_type": "code",
   "execution_count": 59,
   "metadata": {},
   "outputs": [],
   "source": [
    "Tf = Gs.subs(Ki, K[Ki])\n",
    "Tf = Tf.subs(Kp, K[Kp])\n",
    "Tf = simplify(Tf)"
   ]
  },
  {
   "cell_type": "markdown",
   "metadata": {},
   "source": [
    "After we plug-in the calculated values of our controller, namely $K_i$ and $K_d$, we obtain the simplified transfer function of our complete system, which is given by the following expression:\n",
    "\n",
    "$$\n",
    "G(s) = \\frac{5.88s + 13.0}{s^2 + 6.0s + 13.0}\n",
    "$$\n",
    "\n",
    "We now manually define this transfer function using our `control` library."
   ]
  },
  {
   "cell_type": "code",
   "execution_count": 60,
   "metadata": {},
   "outputs": [],
   "source": [
    "Tf = control.tf([5.88, 13.0], [1., 6.0, 13.])\n",
    "Sys = control.ss(Tf)"
   ]
  },
  {
   "cell_type": "markdown",
   "metadata": {},
   "source": [
    "### Open-Loop System\n",
    "\n",
    "To begin the analysis, we plot the unit-step response of our DC Motor, without any control applied."
   ]
  },
  {
   "cell_type": "code",
   "execution_count": 61,
   "metadata": {},
   "outputs": [
    {
     "data": {
      "image/png": "[encoded data removed]",
      "text/plain": [
       "<Figure size 432x288 with 1 Axes>"
      ]
     },
     "metadata": {},
     "output_type": "display_data"
    }
   ],
   "source": [
    "_ = library.step(S)"
   ]
  },
  {
   "cell_type": "markdown",
   "metadata": {},
   "source": [
    "We can see that the system does go towards some arbitrary point in the neighborhood of $17.5$. With our *PI* controller, for a step-input, we are expecting the system to converge to a static value of $1$."
   ]
  },
  {
   "cell_type": "markdown",
   "metadata": {},
   "source": [
    "### PI Control\n",
    "\n",
    "Next, we plot a unit-step response of the DC Motor, but now with our control applied."
   ]
  },
  {
   "cell_type": "code",
   "execution_count": 62,
   "metadata": {},
   "outputs": [
    {
     "data": {
      "image/png": "[encoded data removed]",
      "text/plain": [
       "<Figure size 432x288 with 1 Axes>"
      ]
     },
     "metadata": {},
     "output_type": "display_data"
    }
   ],
   "source": [
    "_ = library.step(Sys)"
   ]
  },
  {
   "cell_type": "markdown",
   "metadata": {},
   "source": [
    "We indeed observe that, given a unit-step input, our system (eventually) converges to a static value of $1$. Finally, to illustrate a slightly more interesting scenario, we simulate the response of our system given a variable set-point input."
   ]
  },
  {
   "cell_type": "code",
   "execution_count": 63,
   "metadata": {},
   "outputs": [
    {
     "data": {
      "image/png": "[encoded data removed]",
      "text/plain": [
       "<Figure size 432x288 with 1 Axes>"
      ]
     },
     "metadata": {},
     "output_type": "display_data"
    }
   ],
   "source": [
    "s_input, s_time = library.simulate_inputs([20.0, 50.0, 30.0, 45.0])\n",
    "_ = library.lsim(Sys, U=s_input, T=s_time)"
   ]
  },
  {
   "cell_type": "markdown",
   "metadata": {},
   "source": [
    "## PI Control Implementation\n",
    "\n",
    "To implement the *PI* controller, we are free to write the code in either of the two controller implementation forms, namely *positional* or *incremental*. I've opted to use the **positional** form, as it yields simpler to understand pseudo-code. Since we do not have the derivative term, we actually do not need the to use the derivative approximation techniques mentioned in the lecture (namely, *forward difference*, *backward difference* and *Tustin's approximation*), but just keep track of the integral and proportional quantities. Note that, even tough this is a pseudo-code (i.e., it does not interact with a real plant), it does run and perform all of the required computations (but with hard-coded data)."
   ]
  },
  {
   "cell_type": "code",
   "execution_count": 64,
   "metadata": {},
   "outputs": [],
   "source": [
    "I = 0.0\n",
    "period = 1000\n",
    "y_bar = 20.0 # Wanted system output."
   ]
  },
  {
   "cell_type": "code",
   "execution_count": 65,
   "metadata": {},
   "outputs": [],
   "source": [
    "for _ in range(0, 3):\n",
    "    # 1.) Mark the sampling start time.\n",
    "    time_start = time.time_ns()\n",
    "    # 2.) Read the plant output \"y\" and calculate the error.\n",
    "    y = 10.0\n",
    "    error = y_bar - y\n",
    "    # 3.) Update the controller variables, calculate the control signal.\n",
    "    I = I + period * error\n",
    "    u = K[Kp] * error + K[Ki] * I\n",
    "    # 4.) Apply the control signal to a real plant.\n",
    "    #     -\n",
    "    # 5.) Sleep until the next sampling period.\n",
    "    time_duration = time.time_ns() - time_start\n",
    "    time.sleep(max(0, period - time_duration))"
   ]
  },
  {
   "cell_type": "markdown",
   "metadata": {},
   "source": [
    "# Position Control (Observable State)\n",
    "\n",
    "We now turn our attention to designing a state-feedback control for the DC Motor position. First, we assume our state is measurable and design a regular state-feedback controller. Then, we assume our state is not measurable, use the Luenberg observer to approximate it and, calculate the controller based on the obtained state estimate."
   ]
  },
  {
   "cell_type": "markdown",
   "metadata": {},
   "source": [
    "## DC Motor Model\n",
    "\n",
    "We use the same state model as for the *PI* controller problem. State matrices $A$ and input matrix $B$ are given in the problem description. The feedthrough matrix $D$ is zero. Finally, since we are designing the position controller, our output matrix is set to be $C = \\begin{bmatrix} 0 & 1 \\end{bmatrix}$.\n",
    "\n",
    "### Continuous-Time\n",
    "\n",
    "First, we define the system in continuous-time, as requested by the problem."
   ]
  },
  {
   "cell_type": "code",
   "execution_count": 66,
   "metadata": {},
   "outputs": [],
   "source": [
    "A = np.array([[-0.12, 0.], [5., 0.]])\n",
    "B = np.array([[2.25], [0.]])\n",
    "C = np.array([[0., 1.]])\n",
    "D = np.array([0.])\n",
    "S = control.ss(A, B, C, D)"
   ]
  },
  {
   "cell_type": "markdown",
   "metadata": {},
   "source": [
    "### Discrete-Time\n",
    "\n",
    "Next, we discretize the system by sampling it with a sampling period of $\\pi = 0.05$."
   ]
  },
  {
   "cell_type": "code",
   "execution_count": 67,
   "metadata": {},
   "outputs": [],
   "source": [
    "Pi = 0.05\n",
    "Sd = control.c2d(S, Pi)\n",
    "Phi = Sd.A\n",
    "Gamma = Sd.B"
   ]
  },
  {
   "cell_type": "markdown",
   "metadata": {},
   "source": [
    "## Controller Poles\n",
    "\n",
    "Our problem can be reduced to finding the matrices constituting our controller, namely the matrix $K$ and the set-point matrix $S$. First, we want to place the poles of the controller matrix, which is given by $K = \\begin{bmatrix} k_1 & k_2 \\end{bmatrix}$, to $0.8 \\pm 0.1$. To do so, we form the characteristic equation and solve for $K$:"
   ]
  },
  {
   "cell_type": "code",
   "execution_count": 68,
   "metadata": {},
   "outputs": [],
   "source": [
    "PolesTarget = [complex(0.8, +0.1), complex(0.8, -0.1)]\n",
    "K = -place(Phi, Gamma, PolesTarget)"
   ]
  },
  {
   "cell_type": "markdown",
   "metadata": {},
   "source": [
    "## Static Gain\n",
    "\n",
    "Next, after finding our controller matrix $K$, we incorporate our set-point and find the matrix $S$, by utilizing the final-value theorem and ensuring our transfer function has a static-gain of $1$. After introducing our controller into the state-space model, we obtain the following system:\n",
    "\n",
    "\\begin{align*}\n",
    "x[k+1] ={} & (\\overbrace{\\Phi + \\Gamma \\cdot K}^{A}) \\cdot x[k] + \\overbrace{\\Gamma \\cdot S}^{B} \\cdot \\bar{y}[k] \\\\[5pt]\n",
    "y[k] ={} & (\\underbrace{C + D \\cdot K}_{C}) \\cdot x[k] \n",
    "\\end{align*}\n",
    "\n",
    "Where the transfer function is obtained using our standard formula:\n",
    "\n",
    "\\begin{align*}\n",
    "G(z) ={} & C \\cdot (z \\cdot I - A)^{-1} \\cdot B \\\\\n",
    "     ={} & (C + DK) \\cdot (zI - \\Phi - \\Gamma K)^{-1} \\Gamma S + DS\n",
    "\\end{align*}\n",
    "\n",
    "Now, considering we have just obtained our $K$, we can solve for $S$, ensuring $G(1)=1$, which implies system's convergence to a given set-point (i.e., system input). We note the usage of the prefix `s` as a variable naming convention, every time a variable is a `sympy` symbolic variable."
   ]
  },
  {
   "cell_type": "code",
   "execution_count": 69,
   "metadata": {},
   "outputs": [],
   "source": [
    "sPhi = Matrix(Phi)\n",
    "sGamma = Matrix(Gamma)\n",
    "sC = Matrix(C)\n",
    "sD = Matrix(D)\n",
    "sK = Matrix(K)\n",
    "s, z = symbols(\"s z\")"
   ]
  },
  {
   "cell_type": "code",
   "execution_count": 70,
   "metadata": {},
   "outputs": [],
   "source": [
    "# 1.) Matrix A, from the equation above.\n",
    "sPhiCL = sPhi + sGamma * sK\n",
    "# 2.) Matrix B, from the equation above.\n",
    "sGammaCL = sGamma * Matrix([[s]])\n",
    "# 3.) Complete transfer function.\n",
    "Gz = (sC + sD * sK) * (z * eye(2) - sPhiCL).inv() * sGammaCL "
   ]
  },
  {
   "cell_type": "code",
   "execution_count": 71,
   "metadata": {},
   "outputs": [],
   "source": [
    "# 1.) Use the final-value theorem.\n",
    "GLim = Gz.subs(z, 1)\n",
    "# 2.) Solve for the set-point matrix.\n",
    "S = solve(Eq(GLim, Matrix([1])), s)[s]"
   ]
  },
  {
   "cell_type": "code",
   "execution_count": 72,
   "metadata": {},
   "outputs": [
    {
     "name": "stdout",
     "output_type": "stream",
     "text": [
      "Controller K: [[-3.28978711 -1.78311644]]\n",
      "Controller S: 1.78311644444124\n"
     ]
    }
   ],
   "source": [
    "print(f\"Controller K: {K}\\nController S: {S}\")"
   ]
  },
  {
   "cell_type": "markdown",
   "metadata": {},
   "source": [
    "Thus, the control signal yielded by our controller is given by:\n",
    "\n",
    "$$\n",
    "u[k] = \\begin{bmatrix} -3.290 & -1.783 \\end{bmatrix} \\cdot \\begin{bmatrix} x_1 \\\\ x_2 \\end{bmatrix} + 1.783 \\cdot \\bar{y}\n",
    "$$"
   ]
  },
  {
   "cell_type": "markdown",
   "metadata": {},
   "source": [
    "## Position Control Evaluation\n",
    "\n",
    "We now proceed to evaluate the (observable) state-feedback controller."
   ]
  },
  {
   "cell_type": "markdown",
   "metadata": {},
   "source": [
    "### Open-Loop System\n",
    "\n",
    "First, we plot an open-loop system response, without any control applied."
   ]
  },
  {
   "cell_type": "code",
   "execution_count": 73,
   "metadata": {},
   "outputs": [
    {
     "data": {
      "image/png": "[encoded data removed]",
      "text/plain": [
       "<Figure size 432x288 with 1 Axes>"
      ]
     },
     "metadata": {},
     "output_type": "display_data"
    }
   ],
   "source": [
    "_ = library.step(Sd)"
   ]
  },
  {
   "cell_type": "markdown",
   "metadata": {},
   "source": [
    "### Feedback-Control System\n",
    "\n",
    "Next, we incorporate our controller and plot the system response to an input $\\bar{y}$. We expect that, after applying the control, our system will (eventually) converge to a static value of $1$."
   ]
  },
  {
   "cell_type": "code",
   "execution_count": 74,
   "metadata": {},
   "outputs": [],
   "source": [
    "Sys = control.ss(\n",
    "    Phi + Gamma * K,\n",
    "    Gamma * np.array(S),\n",
    "    C,\n",
    "    D,\n",
    "    Pi,\n",
    ")"
   ]
  },
  {
   "cell_type": "code",
   "execution_count": 75,
   "metadata": {},
   "outputs": [
    {
     "data": {
      "image/png": "[encoded data removed]",
      "text/plain": [
       "<Figure size 432x288 with 1 Axes>"
      ]
     },
     "metadata": {},
     "output_type": "display_data"
    }
   ],
   "source": [
    "_ = library.step(Sys)"
   ]
  },
  {
   "cell_type": "markdown",
   "metadata": {},
   "source": [
    "This is, once again, confirmed. Just as before, we simulate the response of our system given a variable set-point input, which is a more realistic situation."
   ]
  },
  {
   "cell_type": "code",
   "execution_count": 76,
   "metadata": {},
   "outputs": [
    {
     "data": {
      "image/png": "[encoded data removed]",
      "text/plain": [
       "<Figure size 432x288 with 1 Axes>"
      ]
     },
     "metadata": {},
     "output_type": "display_data"
    }
   ],
   "source": [
    "s_input, s_time = library.simulate_inputs([15.0, 40.0, 10.0, 25.0])\n",
    "_ = library.lsim(Sys, U=s_input, T=s_time)"
   ]
  },
  {
   "cell_type": "markdown",
   "metadata": {},
   "source": [
    "## Position Control Implementation\n",
    "\n",
    "The implementation of this state-feedback controller is rather simplistic. Note that, even tough this is a pseudo-code (i.e., it does not interact with a real plant), it does run and perform all of the required computations.\n",
    "\n",
    "We rely on previously defined matrices $\\Phi, \\Gamma, C, D$. We also define the system output matrix $y$ and our wanted target matrix $\\bar{y}$. Our controller ensures the system output $y$ converges towards the wanted system output $\\bar{y}$. In addition, we define a matrix $x$ representing our (observable) state as well as a matrix $u$ representing our control signal, as calculated by the controller."
   ]
  },
  {
   "cell_type": "code",
   "execution_count": 77,
   "metadata": {},
   "outputs": [],
   "source": [
    "period = 1000\n",
    "y      = np.zeros((1, 1))\n",
    "y_bar  = np.zeros((1, 1))\n",
    "x      = np.zeros((2, 1))\n",
    "u      = np.zeros((1, 1))"
   ]
  },
  {
   "cell_type": "markdown",
   "metadata": {},
   "source": [
    "Next, we define our controller matrix $K$ as well as the set-point matrix $S$. We simply use the values calculated above."
   ]
  },
  {
   "cell_type": "code",
   "execution_count": 78,
   "metadata": {},
   "outputs": [],
   "source": [
    "K = np.array([[-3.290, -1.783]])\n",
    "S = np.array([[1.783]])"
   ]
  },
  {
   "cell_type": "markdown",
   "metadata": {},
   "source": [
    "Finally, we define our control loop. In a real world, this would be intrinsically tied to the system's lifecycle (i.e., while system is powered on, perform control). Here, we just run couple of iterations, enough to illustrate the correctness of calculations."
   ]
  },
  {
   "cell_type": "code",
   "execution_count": 79,
   "metadata": {},
   "outputs": [],
   "source": [
    "for _ in range(0, 3):\n",
    "    # 1.) Mark the sampling start time.\n",
    "    time_start = time.time_ns()\n",
    "    # 2.) * System output. Read from plant.\n",
    "    y[0][0] = 1.0         \n",
    "    # 3.) * Target value. Read from user.\n",
    "    y_bar[0][0] = 2.0     \n",
    "    # 4.) Calculate the control signal. This is plant's input.\n",
    "    u = K @ x + S @ y_bar \n",
    "    # 5.) Apply the control signal to a real plan.\n",
    "    #     -\n",
    "    # 6.) Sleep until the next sampling period.\n",
    "    time_duration = time.time_ns() - time_start\n",
    "    time.sleep(max(0, period - time_duration))"
   ]
  },
  {
   "cell_type": "markdown",
   "metadata": {},
   "source": [
    "# Position Control (Non-Observable State)\n",
    "\n",
    "Finally, we design a state-feedback control for the DC Motor position, only this time assuming we **cannot** measure the system state."
   ]
  },
  {
   "cell_type": "markdown",
   "metadata": {},
   "source": [
    "## DC Motor Model\n",
    "\n",
    "The plant model is identical to the one described in problem (2). State matrix $A$ and input matrix $B$ are given in the problem description. The feedthrough matrix $D$ is zero and $C = \\begin{bmatrix} 0 & 1 \\end{bmatrix}$.\n",
    "\n",
    "### Continuous-Time\n",
    "\n",
    "Like before, we first define the continuous-time system."
   ]
  },
  {
   "cell_type": "code",
   "execution_count": 80,
   "metadata": {},
   "outputs": [],
   "source": [
    "A = np.array([[-0.12, 0.], [5., 0.]])\n",
    "B = np.array([[2.25], [0.]])\n",
    "C = np.array([[0., 1.]])\n",
    "D = np.array([0.])\n",
    "S = control.ss(A, B, C, D)"
   ]
  },
  {
   "cell_type": "markdown",
   "metadata": {},
   "source": [
    "### Discrete-Time\n",
    "\n",
    "Next, we discretize the system by sampling it with a sampling period of $\\pi = 0.05$."
   ]
  },
  {
   "cell_type": "code",
   "execution_count": 81,
   "metadata": {},
   "outputs": [],
   "source": [
    "Pi = 0.05\n",
    "Sd = control.c2d(S, Pi)\n",
    "Phi = Sd.A\n",
    "Gamma = Sd.B"
   ]
  },
  {
   "cell_type": "markdown",
   "metadata": {},
   "source": [
    "## Obtaining Controller\n",
    "\n",
    "With or without observer, we obtain the controller parameter matrices $K$ and $S$ in a same manner.\n",
    "\n",
    "### Controller Poles\n",
    "\n",
    "Similar to before, we first set the controller poles by solving for the eigenvalues of the $\\Phi_{CL}$ matrix."
   ]
  },
  {
   "cell_type": "code",
   "execution_count": 82,
   "metadata": {},
   "outputs": [],
   "source": [
    "PolesCL = [complex(0.8, +0.1), complex(0.8, -0.1)]\n",
    "K = -place(Phi, Gamma, PolesCL)"
   ]
  },
  {
   "cell_type": "markdown",
   "metadata": {},
   "source": [
    "### Set-Point Tracking\n",
    "\n",
    "To ensure our system converges to a given set-point, we again utilize the final-value theorem and solve for the static-gain of a system to be equal to $1$."
   ]
  },
  {
   "cell_type": "code",
   "execution_count": 83,
   "metadata": {},
   "outputs": [],
   "source": [
    "sPhi = Matrix(Phi)\n",
    "sGamma = Matrix(Gamma)\n",
    "sC = Matrix(C)\n",
    "sD = Matrix(D)\n",
    "sK = Matrix(K)\n",
    "s, z = symbols(\"s z\")"
   ]
  },
  {
   "cell_type": "code",
   "execution_count": 84,
   "metadata": {},
   "outputs": [],
   "source": [
    "sPhiCL = sPhi + sGamma * sK\n",
    "sGammaCL = sGamma * s\n",
    "Gz = (sC + sD * sK) * (z * eye(2) - sPhiCL).inv() * sGammaCL"
   ]
  },
  {
   "cell_type": "code",
   "execution_count": 85,
   "metadata": {},
   "outputs": [],
   "source": [
    "GLim = Gz.subs(z, 1)\n",
    "sS = solve(Eq(GLim, Matrix([1])), s)[s]\n",
    "S = np.array(sS)"
   ]
  },
  {
   "cell_type": "markdown",
   "metadata": {},
   "source": [
    "The control signal yielded by our controller is now given by the following equation:\n",
    "$$\n",
    "u[k] = \\begin{bmatrix} -3.290 & -1.783 \\end{bmatrix} \\cdot \\begin{bmatrix} x_1 \\\\ x_2 \\end{bmatrix} + 1.783 \\cdot \\bar{y}\n",
    "$$"
   ]
  },
  {
   "cell_type": "markdown",
   "metadata": {},
   "source": [
    "## Obtaining Observer\n",
    "\n",
    "This is a point where we diverge from task (2). Namely, we can no longer assume our state $x[k]$ is measurable. Thus, we approximate it by $\\hat{x}[k]$, given by our observer. More specifically, we will use the [Luenberger Observer](https://en.wikipedia.org/wiki/State_observer), which approximates a state by the following quantity:\n",
    "\n",
    "$$\n",
    "\\hat{x}[k+1] = \\Phi \\cdot \\hat{x}[k] + \\Gamma \\cdot u[k] + L \\cdot (y[k] - C \\cdot \\hat{x}[k])\n",
    "$$\n",
    "\n",
    "We now proceed to find $L=\\begin{bmatrix} l_1 & l_2 \\end{bmatrix}^T$. Similar as with the $K$ matrix of our controller, we do this by setting the eigenvalues of the observer matrix:\n",
    "\n",
    "$$\n",
    "\\Phi_{OB} = \\Phi - L \\cdot C\n",
    "$$"
   ]
  },
  {
   "cell_type": "code",
   "execution_count": 86,
   "metadata": {},
   "outputs": [],
   "source": [
    "PolesOB = [complex(0.6, +0.2), complex(0.6, -0.2)]\n",
    "L = place(Phi.T, C.T, PolesOB).T"
   ]
  },
  {
   "cell_type": "markdown",
   "metadata": {},
   "source": [
    "Thus, we obtain $L = \\begin{bmatrix} 0.783 & 0.794 \\end{bmatrix}^T$."
   ]
  },
  {
   "cell_type": "markdown",
   "metadata": {},
   "source": [
    "## Controller Evaluation\n",
    "\n",
    "To evaluate this controller, we must create a dynamical system that incorporates both, the controller defined by $K$ and $S$, but also our observer defined by $L$. Without trying to derive the relation, we show the system dynamics:\n",
    "\n",
    "\\begin{align*}\n",
    "\\tilde{x}[k+1] ={} & \\overbrace{\\begin{bmatrix} \\Phi & \\Gamma K \\\\ L C & \\Phi - LC + \\Gamma K \\end{bmatrix}}^{\\Phi_o} \\cdot \\tilde{x}[k] + \\overbrace{\\begin{bmatrix}\\Gamma S \\\\ \\Gamma S \\end{bmatrix}}^{\\Gamma_o} \\cdot \\bar{y}[k] \\\\[20pt]\n",
    "y[k] ={} & \\underbrace{\\begin{bmatrix} C & DK \\end{bmatrix}}_{C_o} \\cdot \\tilde{x}[k] + \\underbrace{\\begin{bmatrix} DS \\end{bmatrix}}_{D_o} \\cdot \\bar{y}[k]\n",
    "\\end{align*}"
   ]
  },
  {
   "cell_type": "code",
   "execution_count": 87,
   "metadata": {},
   "outputs": [],
   "source": [
    "PhiO = np.block([[Phi, Gamma * K], [L * C, Phi - L * C + Gamma * K]])\n",
    "GammaO = np.block([[Gamma * S], [Gamma * S]])\n",
    "CO = np.block([[C, D * K]])\n",
    "DO = np.block([[D * S]])\n",
    "SO = ss(PhiO, GammaO, CO, DO, Pi)"
   ]
  },
  {
   "cell_type": "markdown",
   "metadata": {},
   "source": [
    "Upon defining a system, like before, we run a basic analysis by applying a unit-step and observing the response."
   ]
  },
  {
   "cell_type": "code",
   "execution_count": 88,
   "metadata": {},
   "outputs": [
    {
     "data": {
      "image/png": "[encoded data removed]",
      "text/plain": [
       "<Figure size 432x288 with 1 Axes>"
      ]
     },
     "metadata": {},
     "output_type": "display_data"
    }
   ],
   "source": [
    "_ = library.step(SO)"
   ]
  },
  {
   "cell_type": "markdown",
   "metadata": {},
   "source": [
    "Finally, we simulate the response of our system given a variable set-point input:"
   ]
  },
  {
   "cell_type": "code",
   "execution_count": 89,
   "metadata": {},
   "outputs": [
    {
     "data": {
      "image/png": "[encoded data removed]",
      "text/plain": [
       "<Figure size 432x288 with 1 Axes>"
      ]
     },
     "metadata": {},
     "output_type": "display_data"
    }
   ],
   "source": [
    "s_input, s_time = library.simulate_inputs([30.0, 55.0, 45.0, 35.0])\n",
    "_ = library.lsim(Sys, U=s_input, T=s_time)"
   ]
  },
  {
   "cell_type": "markdown",
   "metadata": {},
   "source": [
    "## Non-Observable Position Control Implementation\n",
    "\n",
    "The implementation of this state-feedback controller with a Luenberg observer leans on our previous implementation. Note that, even tough this is a pseudo-code (i.e., it does not interact with a real plant), it does run and perform all of the required computations.\n",
    "\n",
    "We rely on previously defined matrices $\\Phi, \\Gamma, C, D$. We also define the system output matrix $y$ and our wanted target matrix $\\bar{y}$. Our controller ensures the system output $y$ converges towards the wanted system output $\\bar{y}$. In addition, we also define a matrix $\\hat{x}$ representing our (now estimated) state as well as matrix $u$ representing our control signal calculated by the controller."
   ]
  },
  {
   "cell_type": "code",
   "execution_count": 90,
   "metadata": {},
   "outputs": [],
   "source": [
    "y     = np.zeros((1, 1))\n",
    "y_bar = np.zeros((1, 1))\n",
    "x_hat = np.zeros((2, 1))\n",
    "u     = np.zeros((1, 1))"
   ]
  },
  {
   "cell_type": "code",
   "execution_count": 91,
   "metadata": {},
   "outputs": [],
   "source": [
    "K = np.array([[-3.290, -1.783]])\n",
    "S = np.array([[1.783]])\n",
    "L = np.array([[0.783], [0.794]])"
   ]
  },
  {
   "cell_type": "code",
   "execution_count": 92,
   "metadata": {},
   "outputs": [],
   "source": [
    "for _ in range(0, 3):\n",
    "    # 1.) Mark the sampling start time.\n",
    "    time_start = time.time_ns()\n",
    "    # 2.) * System output. Read from plant, using calculated input u.\n",
    "    y[0][0] = 1.0                                         \n",
    "    # 3.) * Target value. Read from user.\n",
    "    y_bar[0][0] = 2.0                                     \n",
    "    # 4.) Calculate the state estimate.\n",
    "    x_hat = Phi @ x_hat + Gamma @ u + L @ (y - C @ x_hat) \n",
    "    # 5.) Calculate the control signal. This is plant's input.\n",
    "    u = K @ x_hat + S @ y_bar                             \n",
    "    # 6.) Apply the control signal to a real plan.\n",
    "    #     -\n",
    "    # 7.) Sleep until the next sampling period.\n",
    "    time_duration = time.time_ns() - time_start\n",
    "    time.sleep(max(0, period - time_duration))"
   ]
  }
 ],
 "metadata": {
  "kernelspec": {
   "display_name": "Python 3.9.6 64-bit ('embedded_systems')",
   "language": "python",
   "name": "python3"
  },
  "language_info": {
   "codemirror_mode": {
    "name": "ipython",
    "version": 3
   },
   "file_extension": ".py",
   "mimetype": "text/x-python",
   "name": "python",
   "nbconvert_exporter": "python",
   "pygments_lexer": "ipython3",
   "version": "3.9.6"
  },
  "orig_nbformat": 4,
  "vscode": {
   "interpreter": {
    "hash": "a99b181b04f0c45c70a260fa798eed2f7d61f5ca128ebe14363ce97f7eb34041"
   }
  }
 },
 "nbformat": 4,
 "nbformat_minor": 2
}
